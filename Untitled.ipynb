{
 "cells": [
  {
   "cell_type": "code",
   "execution_count": null,
   "id": "047bd1cb-9c54-48ae-95b6-a9a40af3dfa8",
   "metadata": {
    "vscode": {
     "languageId": "python"
    }
   },
   "outputs": [],
   "source": []
  }
 ],
 "metadata": {
  "kernelspec": {
   "display_name": "",
   "name": ""
  },
  "language_info": {
   "name": ""
  }
 },
 "nbformat": 4,
 "nbformat_minor": 5
}
